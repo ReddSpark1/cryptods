{
 "cells": [
  {
   "cell_type": "markdown",
   "id": "f3bfe00c",
   "metadata": {},
   "source": [
    "# Get price data "
   ]
  },
  {
   "cell_type": "markdown",
   "id": "be812cce",
   "metadata": {},
   "source": []
  },
  {
   "cell_type": "code",
   "execution_count": 8,
   "id": "58eef292",
   "metadata": {},
   "outputs": [],
   "source": [
    "import requests\n",
    "import pandas as pd"
   ]
  },
  {
   "cell_type": "code",
   "execution_count": 15,
   "id": "fb786827",
   "metadata": {},
   "outputs": [],
   "source": [
    "def get_crypto_price(symbol, interval, days):\n",
    "    api_key = '<redacted>'\n",
    "    api_url = f'https://api.twelvedata.com/time_series?symbol={symbol}&exchange=Binance&interval={interval}&outputsize={days}&apikey={api_key}'\n",
    "    raw = requests.get(api_url).json()\n",
    "    df = pd.DataFrame(raw['values']).set_index('datetime')\n",
    "    df = df.iloc[::-1]\n",
    "    return df"
   ]
  },
  {
   "cell_type": "code",
   "execution_count": 10,
   "id": "205653c5",
   "metadata": {},
   "outputs": [
    {
     "data": {
      "text/html": [
       "<div>\n",
       "<style scoped>\n",
       "    .dataframe tbody tr th:only-of-type {\n",
       "        vertical-align: middle;\n",
       "    }\n",
       "\n",
       "    .dataframe tbody tr th {\n",
       "        vertical-align: top;\n",
       "    }\n",
       "\n",
       "    .dataframe thead th {\n",
       "        text-align: right;\n",
       "    }\n",
       "</style>\n",
       "<table border=\"1\" class=\"dataframe\">\n",
       "  <thead>\n",
       "    <tr style=\"text-align: right;\">\n",
       "      <th></th>\n",
       "      <th>open</th>\n",
       "      <th>high</th>\n",
       "      <th>low</th>\n",
       "      <th>close</th>\n",
       "    </tr>\n",
       "    <tr>\n",
       "      <th>datetime</th>\n",
       "      <th></th>\n",
       "      <th></th>\n",
       "      <th></th>\n",
       "      <th></th>\n",
       "    </tr>\n",
       "  </thead>\n",
       "  <tbody>\n",
       "    <tr>\n",
       "      <th>2017-08-28</th>\n",
       "      <td>4306.12988</td>\n",
       "      <td>4399.81982</td>\n",
       "      <td>4271.02979</td>\n",
       "      <td>4386.68994</td>\n",
       "    </tr>\n",
       "    <tr>\n",
       "      <th>2017-08-29</th>\n",
       "      <td>4386.68994</td>\n",
       "      <td>4625.85010</td>\n",
       "      <td>4313.54980</td>\n",
       "      <td>4587.47998</td>\n",
       "    </tr>\n",
       "    <tr>\n",
       "      <th>2017-08-30</th>\n",
       "      <td>4587.47998</td>\n",
       "      <td>4647.50977</td>\n",
       "      <td>4416.04980</td>\n",
       "      <td>4555.14014</td>\n",
       "    </tr>\n",
       "    <tr>\n",
       "      <th>2017-08-31</th>\n",
       "      <td>4555.14014</td>\n",
       "      <td>4745.41992</td>\n",
       "      <td>4555.14014</td>\n",
       "      <td>4724.89014</td>\n",
       "    </tr>\n",
       "    <tr>\n",
       "      <th>2017-09-01</th>\n",
       "      <td>4724.89014</td>\n",
       "      <td>4885.54980</td>\n",
       "      <td>4654.87988</td>\n",
       "      <td>4834.91016</td>\n",
       "    </tr>\n",
       "    <tr>\n",
       "      <th>...</th>\n",
       "      <td>...</td>\n",
       "      <td>...</td>\n",
       "      <td>...</td>\n",
       "      <td>...</td>\n",
       "    </tr>\n",
       "    <tr>\n",
       "      <th>2021-09-18</th>\n",
       "      <td>47312.23047</td>\n",
       "      <td>48754.42969</td>\n",
       "      <td>47066.89062</td>\n",
       "      <td>48304.98828</td>\n",
       "    </tr>\n",
       "    <tr>\n",
       "      <th>2021-09-19</th>\n",
       "      <td>48294.35156</td>\n",
       "      <td>48338.62109</td>\n",
       "      <td>46865.53906</td>\n",
       "      <td>47236.53906</td>\n",
       "    </tr>\n",
       "    <tr>\n",
       "      <th>2021-09-20</th>\n",
       "      <td>47284.10156</td>\n",
       "      <td>47324.46094</td>\n",
       "      <td>42532.69141</td>\n",
       "      <td>42968.23047</td>\n",
       "    </tr>\n",
       "    <tr>\n",
       "      <th>2021-09-21</th>\n",
       "      <td>43014.00000</td>\n",
       "      <td>43620.60938</td>\n",
       "      <td>39644.12109</td>\n",
       "      <td>40643.80078</td>\n",
       "    </tr>\n",
       "    <tr>\n",
       "      <th>2021-09-22</th>\n",
       "      <td>40781.46094</td>\n",
       "      <td>42729.01172</td>\n",
       "      <td>40580.98828</td>\n",
       "      <td>42273.62109</td>\n",
       "    </tr>\n",
       "  </tbody>\n",
       "</table>\n",
       "<p>1487 rows × 4 columns</p>\n",
       "</div>"
      ],
      "text/plain": [
       "                   open         high          low        close\n",
       "datetime                                                      \n",
       "2017-08-28   4306.12988   4399.81982   4271.02979   4386.68994\n",
       "2017-08-29   4386.68994   4625.85010   4313.54980   4587.47998\n",
       "2017-08-30   4587.47998   4647.50977   4416.04980   4555.14014\n",
       "2017-08-31   4555.14014   4745.41992   4555.14014   4724.89014\n",
       "2017-09-01   4724.89014   4885.54980   4654.87988   4834.91016\n",
       "...                 ...          ...          ...          ...\n",
       "2021-09-18  47312.23047  48754.42969  47066.89062  48304.98828\n",
       "2021-09-19  48294.35156  48338.62109  46865.53906  47236.53906\n",
       "2021-09-20  47284.10156  47324.46094  42532.69141  42968.23047\n",
       "2021-09-21  43014.00000  43620.60938  39644.12109  40643.80078\n",
       "2021-09-22  40781.46094  42729.01172  40580.98828  42273.62109\n",
       "\n",
       "[1487 rows x 4 columns]"
      ]
     },
     "execution_count": 10,
     "metadata": {},
     "output_type": "execute_result"
    }
   ],
   "source": [
    "# Get 5 years worth of data\n",
    "df = get_crypto_price('BTC/USD', '1day', 1825)  # number of days\n",
    "df"
   ]
  },
  {
   "cell_type": "code",
   "execution_count": 14,
   "id": "a93b811b",
   "metadata": {},
   "outputs": [],
   "source": [
    "df.to_csv('datasets/BTC_5Years.csv', index=False)"
   ]
  },
  {
   "cell_type": "code",
   "execution_count": null,
   "id": "eaa979c5",
   "metadata": {},
   "outputs": [],
   "source": []
  }
 ],
 "metadata": {
  "kernelspec": {
   "display_name": "Python 3",
   "language": "python",
   "name": "python3"
  },
  "language_info": {
   "codemirror_mode": {
    "name": "ipython",
    "version": 3
   },
   "file_extension": ".py",
   "mimetype": "text/x-python",
   "name": "python",
   "nbconvert_exporter": "python",
   "pygments_lexer": "ipython3",
   "version": "3.8.8"
  }
 },
 "nbformat": 4,
 "nbformat_minor": 5
}
