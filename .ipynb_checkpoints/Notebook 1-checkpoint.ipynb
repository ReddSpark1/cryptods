{
 "cells": [
  {
   "cell_type": "markdown",
   "id": "ddc77d71",
   "metadata": {},
   "source": [
    "Version History\n",
    "----------------------\n",
    "\n",
    "07-14-21:\n",
    "- Original source material: https://www.analyticsvidhya.com/blog/2021/05/analyzing-the-cryptocurrency-of-may-2021-python-for-finance-basics/\n",
    "\n",
    "- However Yahoo Finance API has been changed (See: https://365datascience.com/question/remotedataerror-unable-to-read-url-for-yahoo-using-pandas-datareader/)\n",
    "\n",
    "- Will look for an alternative"
   ]
  },
  {
   "cell_type": "code",
   "execution_count": 1,
   "id": "0d55d464",
   "metadata": {},
   "outputs": [],
   "source": [
    "# Standard Python libraries\n",
    "import numpy as np\n",
    "import pandas as pd\n",
    "\n",
    "# Import Tensorflow / Keras libraries\n",
    "from tensorflow.keras.models import Sequential\n",
    "from tensorflow.keras.layers import Dense\n",
    "from tensorflow.keras.layers import Dropout\n",
    "from tensorflow.keras.layers import LSTM"
   ]
  },
  {
   "cell_type": "code",
   "execution_count": 2,
   "id": "881c8794",
   "metadata": {},
   "outputs": [],
   "source": [
    "import warnings\n",
    "warnings.filterwarnings('ignore')  # Hide warnings\n",
    "import datetime as dt\n",
    "import pandas as pd\n",
    "pd.core.common.is_list_like = pd.api.types.is_list_like\n",
    "import pandas_datareader.data as web\n",
    "import numpy as np\n",
    "import matplotlib.pyplot as plt\n",
    "import seaborn as sns\n",
    "\n",
    "import matplotlib.dates as mdates"
   ]
  },
  {
   "cell_type": "code",
   "execution_count": null,
   "id": "f2569168",
   "metadata": {},
   "outputs": [],
   "source": [
    "start = dt.datetime(2021, 1, 1)\n",
    "end = dt.datetime(2021,5,5)\n",
    "btc = web.DataReader(\"BTC-USD\", 'yahoo', start, end)  # Collects data\n",
    "btc.reset_index(inplace=True)"
   ]
  },
  {
   "cell_type": "code",
   "execution_count": null,
   "id": "38d3fd07",
   "metadata": {},
   "outputs": [],
   "source": []
  }
 ],
 "metadata": {
  "kernelspec": {
   "display_name": "Python 3",
   "language": "python",
   "name": "python3"
  },
  "language_info": {
   "codemirror_mode": {
    "name": "ipython",
    "version": 3
   },
   "file_extension": ".py",
   "mimetype": "text/x-python",
   "name": "python",
   "nbconvert_exporter": "python",
   "pygments_lexer": "ipython3",
   "version": "3.8.8"
  }
 },
 "nbformat": 4,
 "nbformat_minor": 5
}
