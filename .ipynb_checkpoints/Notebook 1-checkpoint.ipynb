{
 "cells": [
  {
   "cell_type": "markdown",
   "id": "9555cad7",
   "metadata": {},
   "source": [
    "Version History\n",
    "----------------------\n",
    "\n",
    "07-14-21:\n",
    "- Original source material: https://www.analyticsvidhya.com/blog/2021/05/analyzing-the-cryptocurrency-of-may-2021-python-for-finance-basics/\n",
    "\n",
    "- However Yahoo Finance API has been changed (See: https://365datascience.com/question/remotedataerror-unable-to-read-url-for-yahoo-using-pandas-datareader/)\n",
    "\n",
    "- Fix: https://github.com/pydata/pandas-datareader/issues/868"
   ]
  },
  {
   "cell_type": "code",
   "execution_count": 17,
   "id": "0d55d464",
   "metadata": {},
   "outputs": [],
   "source": [
    "# Standard Python libraries\n",
    "import numpy as np\n",
    "import pandas as pd\n",
    "import datetime as dt\n",
    "\n",
    "import warnings\n",
    "warnings.filterwarnings('ignore')  # Hide warnings\n",
    "pd.core.common.is_list_like = pd.api.types.is_list_like\n",
    "import matplotlib.pyplot as plt\n",
    "import seaborn as sns\n",
    "import matplotlib.dates as mdates\n",
    "\n",
    "# Project specific\n",
    "import pandas_datareader as web\n",
    "import yfinance as yf\n",
    "\n",
    "# Import Tensorflow / Keras libraries\n",
    "from tensorflow.keras.models import Sequential\n",
    "from tensorflow.keras.layers import Dense\n",
    "from tensorflow.keras.layers import Dropout\n",
    "from tensorflow.keras.layers import LSTM"
   ]
  },
  {
   "cell_type": "code",
   "execution_count": 6,
   "id": "686a52ca",
   "metadata": {},
   "outputs": [
    {
     "name": "stdout",
     "output_type": "stream",
     "text": [
      "[*********************100%***********************]  1 of 1 completed\n"
     ]
    }
   ],
   "source": [
    "\n",
    "yf.pdr_override()\n",
    "start = dt.datetime(2021, 1, 1)\n",
    "end = dt.datetime(2021,5,5)\n",
    "\n",
    "btc =web.data.get_data_yahoo('BTC-USD',start,end)\n",
    "btc.reset_index(inplace=True)"
   ]
  },
  {
   "cell_type": "code",
   "execution_count": 8,
   "id": "945fe32f",
   "metadata": {},
   "outputs": [],
   "source": [
    "crypto= btc[['Date','Adj Close']]\n",
    "crypto= crypto.rename(columns = {'Adj Close':'BTC'})\n",
    "crypto[ 'BTC_7DAY_MA' ] = crypto.BTC.rolling( 7).mean()"
   ]
  },
  {
   "cell_type": "code",
   "execution_count": 10,
   "id": "b2d10986",
   "metadata": {},
   "outputs": [
    {
     "name": "stdout",
     "output_type": "stream",
     "text": [
      "[*********************100%***********************]  1 of 1 completed\n"
     ]
    }
   ],
   "source": [
    "#Cardano\n",
    "\n",
    "ada = web.data.get_data_yahoo('ADA-USD',start,end)  # Collects data\n",
    "ada.reset_index(inplace=True)\n",
    "crypto[\"ADA\"]= ada[\"Adj Close\"]\n",
    "\n",
    "\n",
    "# 7 day moving average\n",
    "crypto[ 'ADA_7DAY_MA' ] = crypto.ADA.rolling( 7).mean()"
   ]
  },
  {
   "cell_type": "code",
   "execution_count": 11,
   "id": "02fe9d9a",
   "metadata": {},
   "outputs": [],
   "source": [
    "crypto.set_index(\"Date\", inplace=True)"
   ]
  },
  {
   "cell_type": "code",
   "execution_count": 12,
   "id": "ea28bbc6",
   "metadata": {},
   "outputs": [
    {
     "data": {
      "text/html": [
       "<div>\n",
       "<style scoped>\n",
       "    .dataframe tbody tr th:only-of-type {\n",
       "        vertical-align: middle;\n",
       "    }\n",
       "\n",
       "    .dataframe tbody tr th {\n",
       "        vertical-align: top;\n",
       "    }\n",
       "\n",
       "    .dataframe thead th {\n",
       "        text-align: right;\n",
       "    }\n",
       "</style>\n",
       "<table border=\"1\" class=\"dataframe\">\n",
       "  <thead>\n",
       "    <tr style=\"text-align: right;\">\n",
       "      <th></th>\n",
       "      <th>BTC</th>\n",
       "      <th>ADA</th>\n",
       "    </tr>\n",
       "    <tr>\n",
       "      <th>Date</th>\n",
       "      <th></th>\n",
       "      <th></th>\n",
       "    </tr>\n",
       "  </thead>\n",
       "  <tbody>\n",
       "    <tr>\n",
       "      <th>2021-01-01</th>\n",
       "      <td>29374.152344</td>\n",
       "      <td>0.175350</td>\n",
       "    </tr>\n",
       "    <tr>\n",
       "      <th>2021-01-02</th>\n",
       "      <td>32127.267578</td>\n",
       "      <td>0.177423</td>\n",
       "    </tr>\n",
       "    <tr>\n",
       "      <th>2021-01-03</th>\n",
       "      <td>32782.023438</td>\n",
       "      <td>0.204995</td>\n",
       "    </tr>\n",
       "    <tr>\n",
       "      <th>2021-01-04</th>\n",
       "      <td>31971.914062</td>\n",
       "      <td>0.224762</td>\n",
       "    </tr>\n",
       "    <tr>\n",
       "      <th>2021-01-05</th>\n",
       "      <td>33992.429688</td>\n",
       "      <td>0.258314</td>\n",
       "    </tr>\n",
       "  </tbody>\n",
       "</table>\n",
       "</div>"
      ],
      "text/plain": [
       "                     BTC       ADA\n",
       "Date                              \n",
       "2021-01-01  29374.152344  0.175350\n",
       "2021-01-02  32127.267578  0.177423\n",
       "2021-01-03  32782.023438  0.204995\n",
       "2021-01-04  31971.914062  0.224762\n",
       "2021-01-05  33992.429688  0.258314"
      ]
     },
     "execution_count": 12,
     "metadata": {},
     "output_type": "execute_result"
    }
   ],
   "source": [
    "crypto[['BTC','ADA']].head()"
   ]
  },
  {
   "cell_type": "code",
   "execution_count": 13,
   "id": "b62d4513",
   "metadata": {},
   "outputs": [
    {
     "data": {
      "text/html": [
       "<div>\n",
       "<style scoped>\n",
       "    .dataframe tbody tr th:only-of-type {\n",
       "        vertical-align: middle;\n",
       "    }\n",
       "\n",
       "    .dataframe tbody tr th {\n",
       "        vertical-align: top;\n",
       "    }\n",
       "\n",
       "    .dataframe thead th {\n",
       "        text-align: right;\n",
       "    }\n",
       "</style>\n",
       "<table border=\"1\" class=\"dataframe\">\n",
       "  <thead>\n",
       "    <tr style=\"text-align: right;\">\n",
       "      <th></th>\n",
       "      <th>BTC</th>\n",
       "      <th>ADA</th>\n",
       "    </tr>\n",
       "  </thead>\n",
       "  <tbody>\n",
       "    <tr>\n",
       "      <th>BTC</th>\n",
       "      <td>1.000000</td>\n",
       "      <td>0.931249</td>\n",
       "    </tr>\n",
       "    <tr>\n",
       "      <th>ADA</th>\n",
       "      <td>0.931249</td>\n",
       "      <td>1.000000</td>\n",
       "    </tr>\n",
       "  </tbody>\n",
       "</table>\n",
       "</div>"
      ],
      "text/plain": [
       "          BTC       ADA\n",
       "BTC  1.000000  0.931249\n",
       "ADA  0.931249  1.000000"
      ]
     },
     "execution_count": 13,
     "metadata": {},
     "output_type": "execute_result"
    }
   ],
   "source": [
    "crypto[['BTC','ADA']].corr()"
   ]
  },
  {
   "cell_type": "code",
   "execution_count": 18,
   "id": "af7d87d0",
   "metadata": {},
   "outputs": [
    {
     "data": {
      "text/plain": [
       "<AxesSubplot:>"
      ]
     },
     "execution_count": 18,
     "metadata": {},
     "output_type": "execute_result"
    },
    {
     "data": {
      "image/png": "[encoded data removed]",
      "text/plain": [
       "<Figure size 720x720 with 2 Axes>"
      ]
     },
     "metadata": {
      "needs_background": "light"
     },
     "output_type": "display_data"
    }
   ],
   "source": [
    "#heatmap\n",
    "\n",
    "plt.figure(figsize = (10,10))\n",
    "sns.heatmap(crypto[['BTC','ADA']].corr(),annot=True, cmap='Blues')"
   ]
  },
  {
   "cell_type": "code",
   "execution_count": null,
   "id": "8201c0e3",
   "metadata": {},
   "outputs": [],
   "source": []
  }
 ],
 "metadata": {
  "kernelspec": {
   "display_name": "Python 3",
   "language": "python",
   "name": "python3"
  },
  "language_info": {
   "codemirror_mode": {
    "name": "ipython",
    "version": 3
   },
   "file_extension": ".py",
   "mimetype": "text/x-python",
   "name": "python",
   "nbconvert_exporter": "python",
   "pygments_lexer": "ipython3",
   "version": "3.8.8"
  }
 },
 "nbformat": 4,
 "nbformat_minor": 5
}
